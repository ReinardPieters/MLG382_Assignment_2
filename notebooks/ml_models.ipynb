{
 "cells": [
  {
   "cell_type": "markdown",
   "id": "7f1d4b1c",
   "metadata": {},
   "source": [
    "# Load Dataset"
   ]
  },
  {
   "cell_type": "code",
   "execution_count": 17,
   "id": "c55bbbb4",
   "metadata": {},
   "outputs": [],
   "source": [
    "import pandas as pd\n",
    "from sklearn.metrics import classification_report\n",
    "from sklearn.model_selection import train_test_split\n",
    "import pickle\n",
    "\n",
    "df = pd.read_csv('../artifacts/engineered_data.csv')\n",
    "\n",
    "y = df['Weather Type']\n",
    "x = df.drop(columns=['Weather Type'])\n",
    "\n",
    "x_train, x_test, y_train, y_test = train_test_split(x, y, test_size=0.2, random_state=42)"
   ]
  },
  {
   "cell_type": "markdown",
   "id": "7e859d9c",
   "metadata": {},
   "source": [
    "# XGBoost"
   ]
  },
  {
   "cell_type": "code",
   "execution_count": 18,
   "id": "491ff729",
   "metadata": {},
   "outputs": [
    {
     "name": "stdout",
     "output_type": "stream",
     "text": [
      "XGBoost Classification Report:\n",
      "              precision    recall  f1-score   support\n",
      "\n",
      "           0       0.96      0.97      0.96       581\n",
      "           1       0.98      0.98      0.98       569\n",
      "           2       1.00      0.99      0.99       558\n",
      "           3       0.98      0.98      0.98       593\n",
      "\n",
      "    accuracy                           0.98      2301\n",
      "   macro avg       0.98      0.98      0.98      2301\n",
      "weighted avg       0.98      0.98      0.98      2301\n",
      "\n"
     ]
    }
   ],
   "source": [
    "from xgboost import XGBClassifier\n",
    "\n",
    "xgb_model = XGBClassifier(random_state=42)\n",
    "\n",
    "xgb_model.fit(x_train, y_train)\n",
    "\n",
    "xgb_pred = xgb_model.predict(x_test)\n",
    "\n",
    "print(\"XGBoost Classification Report:\")\n",
    "print(classification_report(y_test, xgb_pred))\n",
    "\n",
    "with open('../data/xgb_model.pkl', 'wb') as xgb_file:\n",
    "    pickle.dump(xgb_model, xgb_file)"
   ]
  },
  {
   "cell_type": "markdown",
   "id": "c5240cb6",
   "metadata": {},
   "source": [
    "# Random Forest Classifier"
   ]
  },
  {
   "cell_type": "code",
   "execution_count": 19,
   "id": "ed355b01",
   "metadata": {},
   "outputs": [
    {
     "name": "stdout",
     "output_type": "stream",
     "text": [
      "Random Forest Classification Report:\n",
      "              precision    recall  f1-score   support\n",
      "\n",
      "           0       0.96      0.97      0.97       581\n",
      "           1       0.98      0.98      0.98       569\n",
      "           2       1.00      0.99      0.99       558\n",
      "           3       0.99      0.98      0.99       593\n",
      "\n",
      "    accuracy                           0.98      2301\n",
      "   macro avg       0.98      0.98      0.98      2301\n",
      "weighted avg       0.98      0.98      0.98      2301\n",
      "\n"
     ]
    }
   ],
   "source": [
    "from sklearn.ensemble import RandomForestClassifier\n",
    "\n",
    "rf_model = RandomForestClassifier(random_state=42)\n",
    "\n",
    "rf_model.fit(x_train, y_train)\n",
    "\n",
    "rf_pred = rf_model.predict(x_test)\n",
    "\n",
    "print(\"Random Forest Classification Report:\")\n",
    "print(classification_report(y_test, rf_pred))\n",
    "\n",
    "with open('../data/rf_model.pkl', 'wb') as rf_file:\n",
    "    pickle.dump(rf_model, rf_file)"
   ]
  },
  {
   "cell_type": "markdown",
   "id": "54fc885d",
   "metadata": {},
   "source": [
    "# Support Vector Machine (SVM)"
   ]
  },
  {
   "cell_type": "code",
   "execution_count": 20,
   "id": "59a2c8b4",
   "metadata": {},
   "outputs": [
    {
     "name": "stdout",
     "output_type": "stream",
     "text": [
      "SVM Classification Report:\n",
      "              precision    recall  f1-score   support\n",
      "\n",
      "           0       0.94      0.97      0.95       581\n",
      "           1       0.97      0.97      0.97       569\n",
      "           2       1.00      0.99      0.99       558\n",
      "           3       0.98      0.96      0.97       593\n",
      "\n",
      "    accuracy                           0.97      2301\n",
      "   macro avg       0.97      0.97      0.97      2301\n",
      "weighted avg       0.97      0.97      0.97      2301\n",
      "\n"
     ]
    }
   ],
   "source": [
    "from sklearn.svm import SVC\n",
    "\n",
    "svm_model = SVC(random_state=42)\n",
    "\n",
    "svm_model.fit(x_train, y_train)\n",
    "\n",
    "svm_pred = svm_model.predict(x_test)\n",
    "\n",
    "print(\"SVM Classification Report:\")\n",
    "print(classification_report(y_test, svm_pred))\n",
    "\n",
    "with open('../data/svm_model.pkl', 'wb') as svm_file:\n",
    "    pickle.dump(svm_model, svm_file)"
   ]
  }
 ],
 "metadata": {
  "kernelspec": {
   "display_name": "base",
   "language": "python",
   "name": "python3"
  },
  "language_info": {
   "codemirror_mode": {
    "name": "ipython",
    "version": 3
   },
   "file_extension": ".py",
   "mimetype": "text/x-python",
   "name": "python",
   "nbconvert_exporter": "python",
   "pygments_lexer": "ipython3",
   "version": "3.12.7"
  }
 },
 "nbformat": 4,
 "nbformat_minor": 5
}
