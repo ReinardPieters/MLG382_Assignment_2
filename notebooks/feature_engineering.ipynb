{
 "cells": [
  {
   "cell_type": "markdown",
   "id": "f2cf8db5",
   "metadata": {},
   "source": [
    "# Encoding values"
   ]
  },
  {
   "cell_type": "code",
   "execution_count": 5,
   "id": "e8bd698d",
   "metadata": {},
   "outputs": [],
   "source": [
    "from sklearn.preprocessing import LabelEncoder\n",
    "import pandas as pd\n",
    "import pickle\n",
    "df = pd.read_csv('../artifacts/cleaned_data.csv')\n",
    "\n",
    "cover_encoder = LabelEncoder()\n",
    "season_encoder = LabelEncoder()\n",
    "location_encoder = LabelEncoder()\n",
    "weather_type_encoder = LabelEncoder()\n",
    "\n",
    "df[\"Cloud Cover\"] = cover_encoder.fit_transform(df[\"Cloud Cover\"])\n",
    "df['Season'] = season_encoder.fit_transform(df['Season'])\n",
    "df['Location'] = location_encoder.fit_transform(df['Location'])\n",
    "df['Weather Type'] = weather_type_encoder.fit_transform(df['Weather Type'])\n",
    "\n",
    "encoders = {\n",
    "    'cover_encoder': cover_encoder,\n",
    "    'season_encoder': season_encoder,\n",
    "    'location_encoder': location_encoder,\n",
    "    'weather_type_encoder': weather_type_encoder\n",
    "}\n",
    "\n",
    "df['Temperature_Humidity'] = df['Temperature'] * df['Humidity']\n",
    "df['Wind_Speed_Precip'] = df['Wind Speed'] * df['Precipitation (%)']\n",
    "\n",
    "# Save to a .pkl file\n",
    "with open(\"../data/label_encoders.pkl\", \"wb\") as f:\n",
    "    pickle.dump(encoders, f)"
   ]
  },
  {
   "cell_type": "markdown",
   "id": "47d9987b",
   "metadata": {},
   "source": [
    "# Viewing of the label encoded "
   ]
  },
  {
   "cell_type": "code",
   "execution_count": 6,
   "id": "7c3bbd0f",
   "metadata": {},
   "outputs": [
    {
     "name": "stdout",
     "output_type": "stream",
     "text": [
      "\n",
      "cover_encoder Mapping:\n",
      "  0 → clear\n",
      "  1 → cloudy\n",
      "  2 → overcast\n",
      "  3 → partly cloudy\n",
      "\n",
      "season_encoder Mapping:\n",
      "  0 → Autumn\n",
      "  1 → Spring\n",
      "  2 → Summer\n",
      "  3 → Winter\n",
      "\n",
      "location_encoder Mapping:\n",
      "  0 → coastal\n",
      "  1 → inland\n",
      "  2 → mountain\n",
      "\n",
      "weather_type_encoder Mapping:\n",
      "  0 → Cloudy\n",
      "  1 → Rainy\n",
      "  2 → Snowy\n",
      "  3 → Sunny\n"
     ]
    }
   ],
   "source": [
    "with open(\"../data/label_encoders.pkl\", \"rb\") as f:\n",
    "    encoders = pickle.load(f)\n",
    "\n",
    "for col, encoder in encoders.items():\n",
    "    mapping = dict(zip(encoder.transform(encoder.classes_), encoder.classes_))\n",
    "    print(f\"\\n{col} Mapping:\")\n",
    "    for k, v in mapping.items():\n",
    "        print(f\"  {k} → {v}\")"
   ]
  },
  {
   "cell_type": "markdown",
   "id": "e50d411a",
   "metadata": {},
   "source": [
    "# Scaling"
   ]
  },
  {
   "cell_type": "code",
   "execution_count": 7,
   "id": "511e9449",
   "metadata": {},
   "outputs": [],
   "source": [
    "from sklearn.preprocessing import StandardScaler\n",
    "\n",
    "numerical_columns = ['Temperature', 'Humidity', 'Wind Speed', 'Precipitation (%)', \n",
    "                     'Atmospheric Pressure', 'UV Index', 'Visibility (km)', \n",
    "                     'Temperature_Humidity', 'Wind_Speed_Precip']\n",
    "\n",
    "scaler = StandardScaler()\n",
    "df[numerical_columns] = scaler.fit_transform(df[numerical_columns])\n",
    "\n",
    "with open(\"../data/scaler.pkl\", \"wb\") as f:\n",
    "    pickle.dump(scaler, f)"
   ]
  },
  {
   "cell_type": "markdown",
   "id": "b9d439e2",
   "metadata": {},
   "source": [
    "# Saving the file"
   ]
  },
  {
   "cell_type": "code",
   "execution_count": 8,
   "id": "9e5a5652",
   "metadata": {},
   "outputs": [],
   "source": [
    "weatherType = df['Weather Type']\n",
    "df.drop(columns=['Weather Type'], inplace=True)\n",
    "df['Weather Type'] = weatherType\n",
    "\n",
    "with open(\"../artifacts/engineered_data.csv\", \"wb\") as f:\n",
    "    df.to_csv(f, index=False)"
   ]
  }
 ],
 "metadata": {
  "kernelspec": {
   "display_name": "base",
   "language": "python",
   "name": "python3"
  },
  "language_info": {
   "codemirror_mode": {
    "name": "ipython",
    "version": 3
   },
   "file_extension": ".py",
   "mimetype": "text/x-python",
   "name": "python",
   "nbconvert_exporter": "python",
   "pygments_lexer": "ipython3",
   "version": "3.12.7"
  }
 },
 "nbformat": 4,
 "nbformat_minor": 5
}
