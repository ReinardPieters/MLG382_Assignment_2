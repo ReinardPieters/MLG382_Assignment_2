{
 "cells": [
  {
   "cell_type": "code",
   "execution_count": 2,
   "id": "15a6d2c6",
   "metadata": {},
   "outputs": [
    {
     "name": "stdout",
     "output_type": "stream",
     "text": [
      "Missing values per column:\n",
      " Temperature             0\n",
      "Humidity                0\n",
      "Wind Speed              0\n",
      "Precipitation (%)       0\n",
      "Cloud Cover             0\n",
      "Atmospheric Pressure    0\n",
      "UV Index                0\n",
      "Season                  0\n",
      "Visibility (km)         0\n",
      "Location                0\n",
      "Weather Type            0\n",
      "dtype: int64\n"
     ]
    }
   ],
   "source": [
    "import pandas as pd\n",
    "import matplotlib.pyplot as plt\n",
    "import seaborn as sns\n",
    "from sklearn.preprocessing import StandardScaler\n",
    "import pickle\n",
    "\n",
    "# Load the dataset\n",
    "df = pd.read_csv('../artifacts/weather_classification_data.csv')\n",
    "\n",
    "# Check missing values\n",
    "missing_values = df.isnull().sum()\n",
    "print(\"Missing values per column:\\n\", missing_values)"
   ]
  },
  {
   "cell_type": "code",
   "execution_count": null,
   "id": "16ef91ae",
   "metadata": {},
   "outputs": [],
   "source": [
    "from sklearn.impute import SimpleImputer\n",
    "\n",
    "# Define column groups\n",
    "num_cols = ['Temperature', 'Humidity', 'Wind Speed', 'Precipitation (%)', 'Atmospheric Pressure', 'UV Index', 'Visibility (km)']\n",
    "ordinal_cols = ['ParentalSupport', 'ParentalEducation']\n",
    "nominal_cols = ['Cloud Cover', 'Season', 'Location', 'Weather Type']\n",
    "\n",
    "# Filter only columns with missing values\n",
    "ordinal_missing = [col for col in ordinal_cols if df[col].isnull().any()]\n",
    "nominal_missing = [col for col in nominal_cols if df[col].isnull().any()]\n",
    "num_missing = [col for col in num_cols if df[col].isnull().any()]\n",
    "\n",
    "# Impute Numerical (mean)\n",
    "if num_missing:\n",
    "    imputer = SimpleImputer(strategy='mean')\n",
    "    df[num_missing] = imputer.fit_transform(df[num_missing])\n",
    "    print(f\"Mean imputation applied to numerical columns: {num_missing}\")\n",
    "else:\n",
    "    print(\"No missing values found in numerical columns.\")\n",
    "\n",
    "# Impute Ordinal (mean)\n",
    "if ordinal_missing:\n",
    "    mean_imputer = SimpleImputer(strategy='mean')\n",
    "    df[ordinal_missing] = mean_imputer.fit_transform(df[ordinal_missing])\n",
    "    print(f\"Mean imputation applied to ordinal columns: {ordinal_missing}\")\n",
    "else:\n",
    "    print(\"No missing values found in ordinal columns.\")\n",
    "\n",
    "# Impute Nominal (mode)\n",
    "if nominal_missing:\n",
    "    mode_imputer = SimpleImputer(strategy='most_frequent')\n",
    "    df[nominal_missing] = mode_imputer.fit_transform(df[nominal_missing])\n",
    "    print(f\"Mode imputation applied to nominal columns: {nominal_missing}\")\n",
    "else:\n",
    "    print(\"No missing values found in nominal columns.\")"
   ]
  }
 ],
 "metadata": {
  "kernelspec": {
   "display_name": "base",
   "language": "python",
   "name": "python3"
  },
  "language_info": {
   "codemirror_mode": {
    "name": "ipython",
    "version": 3
   },
   "file_extension": ".py",
   "mimetype": "text/x-python",
   "name": "python",
   "nbconvert_exporter": "python",
   "pygments_lexer": "ipython3",
   "version": "3.12.7"
  }
 },
 "nbformat": 4,
 "nbformat_minor": 5
}
